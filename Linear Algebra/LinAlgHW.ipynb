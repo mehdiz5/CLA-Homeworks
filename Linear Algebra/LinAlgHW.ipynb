{
 "cells": [
  {
   "cell_type": "markdown",
   "id": "ba1136ea",
   "metadata": {},
   "source": [
    "# Imports"
   ]
  },
  {
   "cell_type": "code",
   "execution_count": 1,
   "id": "616a02c9",
   "metadata": {},
   "outputs": [],
   "source": [
    "import tensorflow as tf\n",
    "import numpy as np\n",
    "from PIL import Image\n",
    "import matplotlib.image as mti"
   ]
  },
  {
   "cell_type": "markdown",
   "id": "a0ab5ce0",
   "metadata": {},
   "source": [
    "# Reading The Image"
   ]
  },
  {
   "cell_type": "markdown",
   "id": "13f3d58f",
   "metadata": {},
   "source": [
    "We read the image then we transpose it inorder to get the right shape"
   ]
  },
  {
   "cell_type": "code",
   "execution_count": 2,
   "id": "28dbbf7c",
   "metadata": {},
   "outputs": [
    {
     "data": {
      "text/plain": [
       "(3, 2560, 1920)"
      ]
     },
     "execution_count": 2,
     "metadata": {},
     "output_type": "execute_result"
    }
   ],
   "source": [
    "img = Image.open(\"Fire.jpg\")\n",
    "array = tf.keras.preprocessing.image.img_to_array(img)\n",
    "array = array.T\n",
    "array.shape"
   ]
  },
  {
   "cell_type": "code",
   "execution_count": 3,
   "id": "2f101f2d",
   "metadata": {},
   "outputs": [
    {
     "data": {
      "text/plain": [
       "array([[[ 0.,  0.,  0., ...,  2.,  1.,  1.],\n",
       "        [ 0.,  0.,  0., ...,  2.,  1.,  1.],\n",
       "        [ 0.,  0.,  0., ...,  1.,  1.,  1.],\n",
       "        ...,\n",
       "        [ 0.,  0.,  0., ...,  4.,  6.,  7.],\n",
       "        [ 0.,  0.,  0., ...,  4.,  6.,  8.],\n",
       "        [ 0.,  0.,  0., ...,  4.,  6.,  8.]],\n",
       "\n",
       "       [[ 0.,  0.,  0., ...,  2.,  1.,  1.],\n",
       "        [ 0.,  0.,  0., ...,  2.,  1.,  1.],\n",
       "        [ 0.,  0.,  0., ...,  1.,  1.,  1.],\n",
       "        ...,\n",
       "        [ 0.,  0.,  0., ...,  6.,  8.,  9.],\n",
       "        [ 0.,  0.,  0., ...,  6.,  8., 10.],\n",
       "        [ 0.,  0.,  0., ...,  6.,  8., 10.]],\n",
       "\n",
       "       [[ 0.,  0.,  0., ...,  2.,  1.,  1.],\n",
       "        [ 0.,  0.,  0., ...,  2.,  1.,  1.],\n",
       "        [ 0.,  0.,  0., ...,  1.,  1.,  1.],\n",
       "        ...,\n",
       "        [ 0.,  0.,  0., ...,  5.,  7.,  8.],\n",
       "        [ 0.,  0.,  0., ...,  5.,  7.,  9.],\n",
       "        [ 0.,  0.,  0., ...,  5.,  7.,  9.]]], dtype=float32)"
      ]
     },
     "execution_count": 3,
     "metadata": {},
     "output_type": "execute_result"
    }
   ],
   "source": [
    "array"
   ]
  },
  {
   "cell_type": "markdown",
   "id": "df4e8f12",
   "metadata": {},
   "source": [
    "# Choice "
   ]
  },
  {
   "cell_type": "markdown",
   "id": "fbde088f",
   "metadata": {},
   "source": [
    "we notice that the array is a tensor of order 3, it contains 3 matrices of 2560x1920 which is the resolution of the image.\n",
    "We choose one of them to perform the requested tasks.we will go with the first matrice ( index 0 )."
   ]
  },
  {
   "cell_type": "code",
   "execution_count": 4,
   "id": "8ecb24dc",
   "metadata": {},
   "outputs": [
    {
     "data": {
      "text/plain": [
       "array([[0., 0., 0., ..., 2., 1., 1.],\n",
       "       [0., 0., 0., ..., 2., 1., 1.],\n",
       "       [0., 0., 0., ..., 1., 1., 1.],\n",
       "       ...,\n",
       "       [0., 0., 0., ..., 4., 6., 7.],\n",
       "       [0., 0., 0., ..., 4., 6., 8.],\n",
       "       [0., 0., 0., ..., 4., 6., 8.]], dtype=float32)"
      ]
     },
     "execution_count": 4,
     "metadata": {},
     "output_type": "execute_result"
    }
   ],
   "source": [
    "subArray = array[0]\n",
    "subArray"
   ]
  },
  {
   "cell_type": "markdown",
   "id": "4122b226",
   "metadata": {},
   "source": [
    "# 1) - Transposition"
   ]
  },
  {
   "cell_type": "code",
   "execution_count": 5,
   "id": "83490873",
   "metadata": {},
   "outputs": [
    {
     "data": {
      "text/plain": [
       "array([[0., 0., 0., ..., 0., 0., 0.],\n",
       "       [0., 0., 0., ..., 0., 0., 0.],\n",
       "       [0., 0., 0., ..., 0., 0., 0.],\n",
       "       ...,\n",
       "       [2., 2., 1., ..., 4., 4., 4.],\n",
       "       [1., 1., 1., ..., 6., 6., 6.],\n",
       "       [1., 1., 1., ..., 7., 8., 8.]], dtype=float32)"
      ]
     },
     "execution_count": 5,
     "metadata": {},
     "output_type": "execute_result"
    }
   ],
   "source": [
    "transSubArray = subArray.T\n",
    "transSubArray"
   ]
  },
  {
   "cell_type": "markdown",
   "id": "d6a38be8",
   "metadata": {},
   "source": [
    "# 2) - Special Matrix Check"
   ]
  },
  {
   "cell_type": "markdown",
   "id": "db94117d",
   "metadata": {},
   "source": [
    "## 2.1) - Diagonal"
   ]
  },
  {
   "cell_type": "code",
   "execution_count": 6,
   "id": "ae7c40d7",
   "metadata": {},
   "outputs": [
    {
     "data": {
      "text/plain": [
       "False"
      ]
     },
     "execution_count": 6,
     "metadata": {},
     "output_type": "execute_result"
    }
   ],
   "source": [
    "def isDiag(M):\n",
    "    return np.allclose(M,np.diag(M))\n",
    "\n",
    "isDiag(subArray)"
   ]
  },
  {
   "cell_type": "markdown",
   "id": "ff04c8d2",
   "metadata": {},
   "source": [
    "## 2.2) - U Trian"
   ]
  },
  {
   "cell_type": "code",
   "execution_count": 7,
   "id": "52bfe6a2",
   "metadata": {},
   "outputs": [
    {
     "data": {
      "text/plain": [
       "False"
      ]
     },
     "execution_count": 7,
     "metadata": {},
     "output_type": "execute_result"
    }
   ],
   "source": [
    "def isUT(M):\n",
    "    return np.allclose(M,np.triu(M))\n",
    "\n",
    "isUT(subArray)"
   ]
  },
  {
   "cell_type": "markdown",
   "id": "c0defa84",
   "metadata": {},
   "source": [
    "## 2.3) - L Trian"
   ]
  },
  {
   "cell_type": "code",
   "execution_count": 8,
   "id": "1dfd2a34",
   "metadata": {},
   "outputs": [
    {
     "data": {
      "text/plain": [
       "False"
      ]
     },
     "execution_count": 8,
     "metadata": {},
     "output_type": "execute_result"
    }
   ],
   "source": [
    "def isLT(M):\n",
    "    return np.allclose(M,np.tril(M))\n",
    "\n",
    "isLT(subArray)"
   ]
  },
  {
   "cell_type": "markdown",
   "id": "61796171",
   "metadata": {},
   "source": [
    "## 2.4) - Identity"
   ]
  },
  {
   "cell_type": "code",
   "execution_count": 9,
   "id": "236c8d42",
   "metadata": {},
   "outputs": [
    {
     "data": {
      "text/plain": [
       "False"
      ]
     },
     "execution_count": 9,
     "metadata": {},
     "output_type": "execute_result"
    }
   ],
   "source": [
    "def isI(M):\n",
    "    return (M.shape[0]==M.shape[1]) and (np.allclose(M,np.identity(M.shape[0])))\n",
    "\n",
    "isI(subArray)"
   ]
  },
  {
   "cell_type": "markdown",
   "id": "b97caa52",
   "metadata": {},
   "source": [
    "# 3) - Norms"
   ]
  },
  {
   "cell_type": "code",
   "execution_count": 10,
   "id": "c4c2c74d",
   "metadata": {},
   "outputs": [
    {
     "data": {
      "text/plain": [
       "array([0., 0., 0., ..., 0., 0., 0.], dtype=float32)"
      ]
     },
     "execution_count": 10,
     "metadata": {},
     "output_type": "execute_result"
    }
   ],
   "source": [
    "from numpy.linalg import norm\n",
    "c = subArray.T[0] # to get the colmun and not the line\n",
    "c"
   ]
  },
  {
   "cell_type": "markdown",
   "id": "75420a6d",
   "metadata": {},
   "source": [
    "## L1"
   ]
  },
  {
   "cell_type": "code",
   "execution_count": 11,
   "id": "c99b04a2",
   "metadata": {},
   "outputs": [
    {
     "data": {
      "text/plain": [
       "8450.0"
      ]
     },
     "execution_count": 11,
     "metadata": {},
     "output_type": "execute_result"
    }
   ],
   "source": [
    "norm_l1 = norm(c, 1)\n",
    "norm_l1"
   ]
  },
  {
   "cell_type": "markdown",
   "id": "40faeea1",
   "metadata": {},
   "source": [
    "## L2"
   ]
  },
  {
   "cell_type": "code",
   "execution_count": 12,
   "id": "f2c71648",
   "metadata": {},
   "outputs": [
    {
     "data": {
      "text/plain": [
       "276.1304"
      ]
     },
     "execution_count": 12,
     "metadata": {},
     "output_type": "execute_result"
    }
   ],
   "source": [
    "norm_l2 = norm(c)\n",
    "norm_l2"
   ]
  }
 ],
 "metadata": {
  "kernelspec": {
   "display_name": "Python 3 (ipykernel)",
   "language": "python",
   "name": "python3"
  },
  "language_info": {
   "codemirror_mode": {
    "name": "ipython",
    "version": 3
   },
   "file_extension": ".py",
   "mimetype": "text/x-python",
   "name": "python",
   "nbconvert_exporter": "python",
   "pygments_lexer": "ipython3",
   "version": "3.9.7"
  }
 },
 "nbformat": 4,
 "nbformat_minor": 5
}
