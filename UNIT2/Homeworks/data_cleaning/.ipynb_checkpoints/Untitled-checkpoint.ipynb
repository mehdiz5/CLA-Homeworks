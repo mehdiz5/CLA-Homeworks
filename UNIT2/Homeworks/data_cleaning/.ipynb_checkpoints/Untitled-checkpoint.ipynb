{
 "cells": [
  {
   "cell_type": "markdown",
   "id": "89ab9838",
   "metadata": {},
   "source": [
    "# Reading the dataSet"
   ]
  },
  {
   "cell_type": "code",
   "execution_count": 1,
   "id": "0f4d376a",
   "metadata": {},
   "outputs": [],
   "source": [
    "import pandas as pd \n",
    "import numpy as np\n",
    "df = pd.read_csv('VideosUS.csv') "
   ]
  },
  {
   "cell_type": "code",
   "execution_count": 9,
   "id": "50bc429e",
   "metadata": {},
   "outputs": [
    {
     "name": "stdout",
     "output_type": "stream",
     "text": [
      "<class 'pandas.core.frame.DataFrame'>\n",
      "Int64Index: 40949 entries, 0 to 41414\n",
      "Data columns (total 16 columns):\n",
      " #   Column                  Non-Null Count  Dtype  \n",
      "---  ------                  --------------  -----  \n",
      " 0   video_id                40949 non-null  object \n",
      " 1   trending_date           40949 non-null  object \n",
      " 2   title                   40949 non-null  object \n",
      " 3   channel_title           40949 non-null  object \n",
      " 4   category_id             40949 non-null  float64\n",
      " 5   publish_time            40949 non-null  object \n",
      " 6   tags                    40949 non-null  object \n",
      " 7   views                   40949 non-null  float64\n",
      " 8   likes                   40949 non-null  float64\n",
      " 9   dislikes                40949 non-null  float64\n",
      " 10  comment_count           40949 non-null  float64\n",
      " 11  thumbnail_link          40949 non-null  object \n",
      " 12  comments_disabled       40949 non-null  object \n",
      " 13  ratings_disabled        40949 non-null  object \n",
      " 14  video_error_or_removed  40949 non-null  object \n",
      " 15  description             40949 non-null  object \n",
      "dtypes: float64(5), object(11)\n",
      "memory usage: 5.3+ MB\n"
     ]
    }
   ],
   "source": [
    "df.info()"
   ]
  },
  {
   "cell_type": "markdown",
   "id": "9326639f",
   "metadata": {},
   "source": [
    "# Checking if there are some missing values "
   ]
  },
  {
   "cell_type": "code",
   "execution_count": 3,
   "id": "e659fc5c",
   "metadata": {},
   "outputs": [
    {
     "data": {
      "text/plain": [
       "True"
      ]
     },
     "execution_count": 3,
     "metadata": {},
     "output_type": "execute_result"
    }
   ],
   "source": [
    "df.isna().any().any()"
   ]
  },
  {
   "cell_type": "markdown",
   "id": "bd55432f",
   "metadata": {},
   "source": [
    "# Check number of missing values "
   ]
  },
  {
   "cell_type": "code",
   "execution_count": 4,
   "id": "4c061d60",
   "metadata": {
    "scrolled": true
   },
   "outputs": [
    {
     "data": {
      "text/plain": [
       "video_id                     0\n",
       "trending_date              466\n",
       "title                      466\n",
       "channel_title              466\n",
       "category_id                466\n",
       "publish_time               466\n",
       "tags                       466\n",
       "views                      466\n",
       "likes                      466\n",
       "dislikes                   466\n",
       "comment_count              466\n",
       "thumbnail_link             466\n",
       "comments_disabled          466\n",
       "ratings_disabled           466\n",
       "video_error_or_removed     466\n",
       "description               1036\n",
       "dtype: int64"
      ]
     },
     "execution_count": 4,
     "metadata": {},
     "output_type": "execute_result"
    }
   ],
   "source": [
    "df.isna().sum()"
   ]
  },
  {
   "cell_type": "markdown",
   "id": "9388fc82",
   "metadata": {},
   "source": [
    "We Notice that the number of missing values is the same in each column we can say that we might be dealing with empty rows its a MAR case some videos have less informations provided, but for the discribtion its a MNAR since not all videos have discribtions"
   ]
  },
  {
   "cell_type": "code",
   "execution_count": 5,
   "id": "4e5b8e85",
   "metadata": {},
   "outputs": [
    {
     "data": {
      "text/html": [
       "<div>\n",
       "<style scoped>\n",
       "    .dataframe tbody tr th:only-of-type {\n",
       "        vertical-align: middle;\n",
       "    }\n",
       "\n",
       "    .dataframe tbody tr th {\n",
       "        vertical-align: top;\n",
       "    }\n",
       "\n",
       "    .dataframe thead th {\n",
       "        text-align: right;\n",
       "    }\n",
       "</style>\n",
       "<table border=\"1\" class=\"dataframe\">\n",
       "  <thead>\n",
       "    <tr style=\"text-align: right;\">\n",
       "      <th></th>\n",
       "      <th>video_id</th>\n",
       "      <th>trending_date</th>\n",
       "      <th>title</th>\n",
       "      <th>channel_title</th>\n",
       "      <th>category_id</th>\n",
       "      <th>publish_time</th>\n",
       "      <th>tags</th>\n",
       "      <th>views</th>\n",
       "      <th>likes</th>\n",
       "      <th>dislikes</th>\n",
       "      <th>comment_count</th>\n",
       "      <th>thumbnail_link</th>\n",
       "      <th>comments_disabled</th>\n",
       "      <th>ratings_disabled</th>\n",
       "      <th>video_error_or_removed</th>\n",
       "      <th>description</th>\n",
       "    </tr>\n",
       "  </thead>\n",
       "  <tbody>\n",
       "    <tr>\n",
       "      <th>53</th>\n",
       "      <td>\\nSubscribe to WWE on YouTube: http://bit.ly/1...</td>\n",
       "      <td>NaN</td>\n",
       "      <td>NaN</td>\n",
       "      <td>NaN</td>\n",
       "      <td>NaN</td>\n",
       "      <td>NaN</td>\n",
       "      <td>NaN</td>\n",
       "      <td>NaN</td>\n",
       "      <td>NaN</td>\n",
       "      <td>NaN</td>\n",
       "      <td>NaN</td>\n",
       "      <td>NaN</td>\n",
       "      <td>NaN</td>\n",
       "      <td>NaN</td>\n",
       "      <td>NaN</td>\n",
       "      <td>NaN</td>\n",
       "    </tr>\n",
       "    <tr>\n",
       "      <th>54</th>\n",
       "      <td>\\nVisit WWE.com: http://goo.gl/akf0J4</td>\n",
       "      <td>NaN</td>\n",
       "      <td>NaN</td>\n",
       "      <td>NaN</td>\n",
       "      <td>NaN</td>\n",
       "      <td>NaN</td>\n",
       "      <td>NaN</td>\n",
       "      <td>NaN</td>\n",
       "      <td>NaN</td>\n",
       "      <td>NaN</td>\n",
       "      <td>NaN</td>\n",
       "      <td>NaN</td>\n",
       "      <td>NaN</td>\n",
       "      <td>NaN</td>\n",
       "      <td>NaN</td>\n",
       "      <td>NaN</td>\n",
       "    </tr>\n",
       "    <tr>\n",
       "      <th>55</th>\n",
       "      <td>\\nMust-See WWE videos on YouTube: https://goo....</td>\n",
       "      <td>NaN</td>\n",
       "      <td>NaN</td>\n",
       "      <td>NaN</td>\n",
       "      <td>NaN</td>\n",
       "      <td>NaN</td>\n",
       "      <td>NaN</td>\n",
       "      <td>NaN</td>\n",
       "      <td>NaN</td>\n",
       "      <td>NaN</td>\n",
       "      <td>NaN</td>\n",
       "      <td>NaN</td>\n",
       "      <td>NaN</td>\n",
       "      <td>NaN</td>\n",
       "      <td>NaN</td>\n",
       "      <td>NaN</td>\n",
       "    </tr>\n",
       "    <tr>\n",
       "      <th>319</th>\n",
       "      <td>\\nSubscribe to WWE on YouTube: http://bit.ly/1...</td>\n",
       "      <td>NaN</td>\n",
       "      <td>NaN</td>\n",
       "      <td>NaN</td>\n",
       "      <td>NaN</td>\n",
       "      <td>NaN</td>\n",
       "      <td>NaN</td>\n",
       "      <td>NaN</td>\n",
       "      <td>NaN</td>\n",
       "      <td>NaN</td>\n",
       "      <td>NaN</td>\n",
       "      <td>NaN</td>\n",
       "      <td>NaN</td>\n",
       "      <td>NaN</td>\n",
       "      <td>NaN</td>\n",
       "      <td>NaN</td>\n",
       "    </tr>\n",
       "    <tr>\n",
       "      <th>320</th>\n",
       "      <td>\\nVisit WWE.com: http://goo.gl/akf0J4</td>\n",
       "      <td>NaN</td>\n",
       "      <td>NaN</td>\n",
       "      <td>NaN</td>\n",
       "      <td>NaN</td>\n",
       "      <td>NaN</td>\n",
       "      <td>NaN</td>\n",
       "      <td>NaN</td>\n",
       "      <td>NaN</td>\n",
       "      <td>NaN</td>\n",
       "      <td>NaN</td>\n",
       "      <td>NaN</td>\n",
       "      <td>NaN</td>\n",
       "      <td>NaN</td>\n",
       "      <td>NaN</td>\n",
       "      <td>NaN</td>\n",
       "    </tr>\n",
       "    <tr>\n",
       "      <th>...</th>\n",
       "      <td>...</td>\n",
       "      <td>...</td>\n",
       "      <td>...</td>\n",
       "      <td>...</td>\n",
       "      <td>...</td>\n",
       "      <td>...</td>\n",
       "      <td>...</td>\n",
       "      <td>...</td>\n",
       "      <td>...</td>\n",
       "      <td>...</td>\n",
       "      <td>...</td>\n",
       "      <td>...</td>\n",
       "      <td>...</td>\n",
       "      <td>...</td>\n",
       "      <td>...</td>\n",
       "      <td>...</td>\n",
       "    </tr>\n",
       "    <tr>\n",
       "      <th>36570</th>\n",
       "      <td>Follow me on Twitter ► https://twitter.com/mar...</td>\n",
       "      <td>NaN</td>\n",
       "      <td>NaN</td>\n",
       "      <td>NaN</td>\n",
       "      <td>NaN</td>\n",
       "      <td>NaN</td>\n",
       "      <td>NaN</td>\n",
       "      <td>NaN</td>\n",
       "      <td>NaN</td>\n",
       "      <td>NaN</td>\n",
       "      <td>NaN</td>\n",
       "      <td>NaN</td>\n",
       "      <td>NaN</td>\n",
       "      <td>NaN</td>\n",
       "      <td>NaN</td>\n",
       "      <td>NaN</td>\n",
       "    </tr>\n",
       "    <tr>\n",
       "      <th>36571</th>\n",
       "      <td>Like me on Facebook ► https://www.facebook.com...</td>\n",
       "      <td>NaN</td>\n",
       "      <td>NaN</td>\n",
       "      <td>NaN</td>\n",
       "      <td>NaN</td>\n",
       "      <td>NaN</td>\n",
       "      <td>NaN</td>\n",
       "      <td>NaN</td>\n",
       "      <td>NaN</td>\n",
       "      <td>NaN</td>\n",
       "      <td>NaN</td>\n",
       "      <td>NaN</td>\n",
       "      <td>NaN</td>\n",
       "      <td>NaN</td>\n",
       "      <td>NaN</td>\n",
       "      <td>NaN</td>\n",
       "    </tr>\n",
       "    <tr>\n",
       "      <th>36572</th>\n",
       "      <td>Join us on Reddit! ► https://www.reddit.com/r/...</td>\n",
       "      <td>NaN</td>\n",
       "      <td>NaN</td>\n",
       "      <td>NaN</td>\n",
       "      <td>NaN</td>\n",
       "      <td>NaN</td>\n",
       "      <td>NaN</td>\n",
       "      <td>NaN</td>\n",
       "      <td>NaN</td>\n",
       "      <td>NaN</td>\n",
       "      <td>NaN</td>\n",
       "      <td>NaN</td>\n",
       "      <td>NaN</td>\n",
       "      <td>NaN</td>\n",
       "      <td>NaN</td>\n",
       "      <td>NaN</td>\n",
       "    </tr>\n",
       "    <tr>\n",
       "      <th>36573</th>\n",
       "      <td>Horror Outro ► https://soundcloud.com/shurkoff...</td>\n",
       "      <td>NaN</td>\n",
       "      <td>NaN</td>\n",
       "      <td>NaN</td>\n",
       "      <td>NaN</td>\n",
       "      <td>NaN</td>\n",
       "      <td>NaN</td>\n",
       "      <td>NaN</td>\n",
       "      <td>NaN</td>\n",
       "      <td>NaN</td>\n",
       "      <td>NaN</td>\n",
       "      <td>NaN</td>\n",
       "      <td>NaN</td>\n",
       "      <td>NaN</td>\n",
       "      <td>NaN</td>\n",
       "      <td>NaN</td>\n",
       "    </tr>\n",
       "    <tr>\n",
       "      <th>36574</th>\n",
       "      <td>Happy Outro ► https://soundcloud.com/hielia/mi...</td>\n",
       "      <td>NaN</td>\n",
       "      <td>NaN</td>\n",
       "      <td>NaN</td>\n",
       "      <td>NaN</td>\n",
       "      <td>NaN</td>\n",
       "      <td>NaN</td>\n",
       "      <td>NaN</td>\n",
       "      <td>NaN</td>\n",
       "      <td>NaN</td>\n",
       "      <td>NaN</td>\n",
       "      <td>NaN</td>\n",
       "      <td>NaN</td>\n",
       "      <td>NaN</td>\n",
       "      <td>NaN</td>\n",
       "      <td>NaN</td>\n",
       "    </tr>\n",
       "  </tbody>\n",
       "</table>\n",
       "<p>466 rows × 16 columns</p>\n",
       "</div>"
      ],
      "text/plain": [
       "                                                video_id trending_date title  \\\n",
       "53     \\nSubscribe to WWE on YouTube: http://bit.ly/1...           NaN   NaN   \n",
       "54                 \\nVisit WWE.com: http://goo.gl/akf0J4           NaN   NaN   \n",
       "55     \\nMust-See WWE videos on YouTube: https://goo....           NaN   NaN   \n",
       "319    \\nSubscribe to WWE on YouTube: http://bit.ly/1...           NaN   NaN   \n",
       "320                \\nVisit WWE.com: http://goo.gl/akf0J4           NaN   NaN   \n",
       "...                                                  ...           ...   ...   \n",
       "36570  Follow me on Twitter ► https://twitter.com/mar...           NaN   NaN   \n",
       "36571  Like me on Facebook ► https://www.facebook.com...           NaN   NaN   \n",
       "36572  Join us on Reddit! ► https://www.reddit.com/r/...           NaN   NaN   \n",
       "36573  Horror Outro ► https://soundcloud.com/shurkoff...           NaN   NaN   \n",
       "36574  Happy Outro ► https://soundcloud.com/hielia/mi...           NaN   NaN   \n",
       "\n",
       "      channel_title  category_id publish_time tags  views  likes  dislikes  \\\n",
       "53              NaN          NaN          NaN  NaN    NaN    NaN       NaN   \n",
       "54              NaN          NaN          NaN  NaN    NaN    NaN       NaN   \n",
       "55              NaN          NaN          NaN  NaN    NaN    NaN       NaN   \n",
       "319             NaN          NaN          NaN  NaN    NaN    NaN       NaN   \n",
       "320             NaN          NaN          NaN  NaN    NaN    NaN       NaN   \n",
       "...             ...          ...          ...  ...    ...    ...       ...   \n",
       "36570           NaN          NaN          NaN  NaN    NaN    NaN       NaN   \n",
       "36571           NaN          NaN          NaN  NaN    NaN    NaN       NaN   \n",
       "36572           NaN          NaN          NaN  NaN    NaN    NaN       NaN   \n",
       "36573           NaN          NaN          NaN  NaN    NaN    NaN       NaN   \n",
       "36574           NaN          NaN          NaN  NaN    NaN    NaN       NaN   \n",
       "\n",
       "       comment_count thumbnail_link comments_disabled ratings_disabled  \\\n",
       "53               NaN            NaN               NaN              NaN   \n",
       "54               NaN            NaN               NaN              NaN   \n",
       "55               NaN            NaN               NaN              NaN   \n",
       "319              NaN            NaN               NaN              NaN   \n",
       "320              NaN            NaN               NaN              NaN   \n",
       "...              ...            ...               ...              ...   \n",
       "36570            NaN            NaN               NaN              NaN   \n",
       "36571            NaN            NaN               NaN              NaN   \n",
       "36572            NaN            NaN               NaN              NaN   \n",
       "36573            NaN            NaN               NaN              NaN   \n",
       "36574            NaN            NaN               NaN              NaN   \n",
       "\n",
       "      video_error_or_removed description  \n",
       "53                       NaN         NaN  \n",
       "54                       NaN         NaN  \n",
       "55                       NaN         NaN  \n",
       "319                      NaN         NaN  \n",
       "320                      NaN         NaN  \n",
       "...                      ...         ...  \n",
       "36570                    NaN         NaN  \n",
       "36571                    NaN         NaN  \n",
       "36572                    NaN         NaN  \n",
       "36573                    NaN         NaN  \n",
       "36574                    NaN         NaN  \n",
       "\n",
       "[466 rows x 16 columns]"
      ]
     },
     "execution_count": 5,
     "metadata": {},
     "output_type": "execute_result"
    }
   ],
   "source": [
    "df[df['title'].isna()]"
   ]
  },
  {
   "cell_type": "markdown",
   "id": "cc93dac8",
   "metadata": {},
   "source": [
    "# Cleaning the data"
   ]
  },
  {
   "cell_type": "code",
   "execution_count": 6,
   "id": "1066400c",
   "metadata": {},
   "outputs": [],
   "source": [
    "df['description'].fillna('',inplace = True)"
   ]
  },
  {
   "cell_type": "code",
   "execution_count": 8,
   "id": "3c95e683",
   "metadata": {},
   "outputs": [],
   "source": [
    "df.dropna(inplace = True)"
   ]
  },
  {
   "cell_type": "markdown",
   "id": "67e79233",
   "metadata": {},
   "source": [
    "# Calcuations"
   ]
  },
  {
   "cell_type": "code",
   "execution_count": 11,
   "id": "25379bca",
   "metadata": {},
   "outputs": [
    {
     "data": {
      "text/html": [
       "<div>\n",
       "<style scoped>\n",
       "    .dataframe tbody tr th:only-of-type {\n",
       "        vertical-align: middle;\n",
       "    }\n",
       "\n",
       "    .dataframe tbody tr th {\n",
       "        vertical-align: top;\n",
       "    }\n",
       "\n",
       "    .dataframe thead th {\n",
       "        text-align: right;\n",
       "    }\n",
       "</style>\n",
       "<table border=\"1\" class=\"dataframe\">\n",
       "  <thead>\n",
       "    <tr style=\"text-align: right;\">\n",
       "      <th></th>\n",
       "      <th>category_id</th>\n",
       "      <th>views</th>\n",
       "      <th>likes</th>\n",
       "      <th>dislikes</th>\n",
       "      <th>comment_count</th>\n",
       "    </tr>\n",
       "  </thead>\n",
       "  <tbody>\n",
       "    <tr>\n",
       "      <th>0</th>\n",
       "      <td>22.0</td>\n",
       "      <td>748374.0</td>\n",
       "      <td>57527.0</td>\n",
       "      <td>2966.0</td>\n",
       "      <td>15954.0</td>\n",
       "    </tr>\n",
       "    <tr>\n",
       "      <th>1</th>\n",
       "      <td>24.0</td>\n",
       "      <td>2418783.0</td>\n",
       "      <td>97185.0</td>\n",
       "      <td>6146.0</td>\n",
       "      <td>12703.0</td>\n",
       "    </tr>\n",
       "    <tr>\n",
       "      <th>2</th>\n",
       "      <td>23.0</td>\n",
       "      <td>3191434.0</td>\n",
       "      <td>146033.0</td>\n",
       "      <td>5339.0</td>\n",
       "      <td>8181.0</td>\n",
       "    </tr>\n",
       "    <tr>\n",
       "      <th>3</th>\n",
       "      <td>24.0</td>\n",
       "      <td>343168.0</td>\n",
       "      <td>10172.0</td>\n",
       "      <td>666.0</td>\n",
       "      <td>2146.0</td>\n",
       "    </tr>\n",
       "    <tr>\n",
       "      <th>4</th>\n",
       "      <td>24.0</td>\n",
       "      <td>2095731.0</td>\n",
       "      <td>132235.0</td>\n",
       "      <td>1989.0</td>\n",
       "      <td>17518.0</td>\n",
       "    </tr>\n",
       "    <tr>\n",
       "      <th>...</th>\n",
       "      <td>...</td>\n",
       "      <td>...</td>\n",
       "      <td>...</td>\n",
       "      <td>...</td>\n",
       "      <td>...</td>\n",
       "    </tr>\n",
       "    <tr>\n",
       "      <th>41410</th>\n",
       "      <td>15.0</td>\n",
       "      <td>1685609.0</td>\n",
       "      <td>38160.0</td>\n",
       "      <td>1385.0</td>\n",
       "      <td>2657.0</td>\n",
       "    </tr>\n",
       "    <tr>\n",
       "      <th>41411</th>\n",
       "      <td>22.0</td>\n",
       "      <td>1064798.0</td>\n",
       "      <td>60008.0</td>\n",
       "      <td>382.0</td>\n",
       "      <td>3936.0</td>\n",
       "    </tr>\n",
       "    <tr>\n",
       "      <th>41412</th>\n",
       "      <td>24.0</td>\n",
       "      <td>1066451.0</td>\n",
       "      <td>48068.0</td>\n",
       "      <td>1032.0</td>\n",
       "      <td>3992.0</td>\n",
       "    </tr>\n",
       "    <tr>\n",
       "      <th>41413</th>\n",
       "      <td>1.0</td>\n",
       "      <td>5660813.0</td>\n",
       "      <td>192957.0</td>\n",
       "      <td>2846.0</td>\n",
       "      <td>13088.0</td>\n",
       "    </tr>\n",
       "    <tr>\n",
       "      <th>41414</th>\n",
       "      <td>20.0</td>\n",
       "      <td>10306119.0</td>\n",
       "      <td>357079.0</td>\n",
       "      <td>212976.0</td>\n",
       "      <td>144795.0</td>\n",
       "    </tr>\n",
       "  </tbody>\n",
       "</table>\n",
       "<p>40949 rows × 5 columns</p>\n",
       "</div>"
      ],
      "text/plain": [
       "       category_id       views     likes  dislikes  comment_count\n",
       "0             22.0    748374.0   57527.0    2966.0        15954.0\n",
       "1             24.0   2418783.0   97185.0    6146.0        12703.0\n",
       "2             23.0   3191434.0  146033.0    5339.0         8181.0\n",
       "3             24.0    343168.0   10172.0     666.0         2146.0\n",
       "4             24.0   2095731.0  132235.0    1989.0        17518.0\n",
       "...            ...         ...       ...       ...            ...\n",
       "41410         15.0   1685609.0   38160.0    1385.0         2657.0\n",
       "41411         22.0   1064798.0   60008.0     382.0         3936.0\n",
       "41412         24.0   1066451.0   48068.0    1032.0         3992.0\n",
       "41413          1.0   5660813.0  192957.0    2846.0        13088.0\n",
       "41414         20.0  10306119.0  357079.0  212976.0       144795.0\n",
       "\n",
       "[40949 rows x 5 columns]"
      ]
     },
     "execution_count": 11,
     "metadata": {},
     "output_type": "execute_result"
    }
   ],
   "source": [
    "numFrame = df[['category_id','views','likes','dislikes','comment_count']]\n",
    "numFrame"
   ]
  },
  {
   "cell_type": "code",
   "execution_count": 12,
   "id": "d8438199",
   "metadata": {
    "scrolled": false
   },
   "outputs": [
    {
     "data": {
      "text/plain": [
       "category_id      1.997243e+01\n",
       "views            2.360785e+06\n",
       "likes            7.426670e+04\n",
       "dislikes         3.711401e+03\n",
       "comment_count    8.446804e+03\n",
       "dtype: float64"
      ]
     },
     "execution_count": 12,
     "metadata": {},
     "output_type": "execute_result"
    }
   ],
   "source": [
    "numFrame.mean()"
   ]
  },
  {
   "cell_type": "code",
   "execution_count": 13,
   "id": "118d386f",
   "metadata": {
    "scrolled": true
   },
   "outputs": [
    {
     "data": {
      "text/plain": [
       "category_id          24.0\n",
       "views            681861.0\n",
       "likes             18091.0\n",
       "dislikes            631.0\n",
       "comment_count      1856.0\n",
       "dtype: float64"
      ]
     },
     "execution_count": 13,
     "metadata": {},
     "output_type": "execute_result"
    }
   ],
   "source": [
    "numFrame.median()"
   ]
  },
  {
   "cell_type": "code",
   "execution_count": 14,
   "id": "acd18df8",
   "metadata": {},
   "outputs": [
    {
     "data": {
      "text/html": [
       "<div>\n",
       "<style scoped>\n",
       "    .dataframe tbody tr th:only-of-type {\n",
       "        vertical-align: middle;\n",
       "    }\n",
       "\n",
       "    .dataframe tbody tr th {\n",
       "        vertical-align: top;\n",
       "    }\n",
       "\n",
       "    .dataframe thead th {\n",
       "        text-align: right;\n",
       "    }\n",
       "</style>\n",
       "<table border=\"1\" class=\"dataframe\">\n",
       "  <thead>\n",
       "    <tr style=\"text-align: right;\">\n",
       "      <th></th>\n",
       "      <th>category_id</th>\n",
       "      <th>views</th>\n",
       "      <th>likes</th>\n",
       "      <th>dislikes</th>\n",
       "      <th>comment_count</th>\n",
       "    </tr>\n",
       "  </thead>\n",
       "  <tbody>\n",
       "    <tr>\n",
       "      <th>0.25</th>\n",
       "      <td>17.0</td>\n",
       "      <td>242329.0</td>\n",
       "      <td>5424.0</td>\n",
       "      <td>202.0</td>\n",
       "      <td>614.0</td>\n",
       "    </tr>\n",
       "    <tr>\n",
       "      <th>0.50</th>\n",
       "      <td>24.0</td>\n",
       "      <td>681861.0</td>\n",
       "      <td>18091.0</td>\n",
       "      <td>631.0</td>\n",
       "      <td>1856.0</td>\n",
       "    </tr>\n",
       "    <tr>\n",
       "      <th>0.75</th>\n",
       "      <td>25.0</td>\n",
       "      <td>1823157.0</td>\n",
       "      <td>55417.0</td>\n",
       "      <td>1938.0</td>\n",
       "      <td>5755.0</td>\n",
       "    </tr>\n",
       "  </tbody>\n",
       "</table>\n",
       "</div>"
      ],
      "text/plain": [
       "      category_id      views    likes  dislikes  comment_count\n",
       "0.25         17.0   242329.0   5424.0     202.0          614.0\n",
       "0.50         24.0   681861.0  18091.0     631.0         1856.0\n",
       "0.75         25.0  1823157.0  55417.0    1938.0         5755.0"
      ]
     },
     "execution_count": 14,
     "metadata": {},
     "output_type": "execute_result"
    }
   ],
   "source": [
    "numFrame.quantile([0.25,0.5,0.75])"
   ]
  },
  {
   "cell_type": "markdown",
   "id": "086acc4b",
   "metadata": {},
   "source": [
    "# Removing outliers"
   ]
  },
  {
   "cell_type": "code",
   "execution_count": 15,
   "id": "1c0f70b6",
   "metadata": {},
   "outputs": [
    {
     "data": {
      "text/html": [
       "<div>\n",
       "<style scoped>\n",
       "    .dataframe tbody tr th:only-of-type {\n",
       "        vertical-align: middle;\n",
       "    }\n",
       "\n",
       "    .dataframe tbody tr th {\n",
       "        vertical-align: top;\n",
       "    }\n",
       "\n",
       "    .dataframe thead th {\n",
       "        text-align: right;\n",
       "    }\n",
       "</style>\n",
       "<table border=\"1\" class=\"dataframe\">\n",
       "  <thead>\n",
       "    <tr style=\"text-align: right;\">\n",
       "      <th></th>\n",
       "      <th>category_id</th>\n",
       "      <th>views</th>\n",
       "      <th>likes</th>\n",
       "      <th>dislikes</th>\n",
       "      <th>comment_count</th>\n",
       "    </tr>\n",
       "  </thead>\n",
       "  <tbody>\n",
       "    <tr>\n",
       "      <th>0</th>\n",
       "      <td>0.267905</td>\n",
       "      <td>0.218069</td>\n",
       "      <td>0.073137</td>\n",
       "      <td>0.025677</td>\n",
       "      <td>0.200566</td>\n",
       "    </tr>\n",
       "    <tr>\n",
       "      <th>1</th>\n",
       "      <td>0.532168</td>\n",
       "      <td>0.007844</td>\n",
       "      <td>0.100131</td>\n",
       "      <td>0.083867</td>\n",
       "      <td>0.113711</td>\n",
       "    </tr>\n",
       "    <tr>\n",
       "      <th>2</th>\n",
       "      <td>0.400037</td>\n",
       "      <td>0.112341</td>\n",
       "      <td>0.313551</td>\n",
       "      <td>0.056067</td>\n",
       "      <td>0.007101</td>\n",
       "    </tr>\n",
       "    <tr>\n",
       "      <th>3</th>\n",
       "      <td>0.532168</td>\n",
       "      <td>0.272871</td>\n",
       "      <td>0.280033</td>\n",
       "      <td>0.104908</td>\n",
       "      <td>0.168336</td>\n",
       "    </tr>\n",
       "    <tr>\n",
       "      <th>4</th>\n",
       "      <td>0.532168</td>\n",
       "      <td>0.035847</td>\n",
       "      <td>0.253267</td>\n",
       "      <td>0.059333</td>\n",
       "      <td>0.242351</td>\n",
       "    </tr>\n",
       "    <tr>\n",
       "      <th>...</th>\n",
       "      <td>...</td>\n",
       "      <td>...</td>\n",
       "      <td>...</td>\n",
       "      <td>...</td>\n",
       "      <td>...</td>\n",
       "    </tr>\n",
       "    <tr>\n",
       "      <th>41410</th>\n",
       "      <td>0.657013</td>\n",
       "      <td>0.091314</td>\n",
       "      <td>0.157752</td>\n",
       "      <td>0.080140</td>\n",
       "      <td>0.154683</td>\n",
       "    </tr>\n",
       "    <tr>\n",
       "      <th>41411</th>\n",
       "      <td>0.267905</td>\n",
       "      <td>0.175275</td>\n",
       "      <td>0.062297</td>\n",
       "      <td>0.114691</td>\n",
       "      <td>0.120513</td>\n",
       "    </tr>\n",
       "    <tr>\n",
       "      <th>41412</th>\n",
       "      <td>0.532168</td>\n",
       "      <td>0.175051</td>\n",
       "      <td>0.114464</td>\n",
       "      <td>0.092300</td>\n",
       "      <td>0.119017</td>\n",
       "    </tr>\n",
       "    <tr>\n",
       "      <th>41413</th>\n",
       "      <td>2.506850</td>\n",
       "      <td>0.446310</td>\n",
       "      <td>0.518564</td>\n",
       "      <td>0.029811</td>\n",
       "      <td>0.123997</td>\n",
       "    </tr>\n",
       "    <tr>\n",
       "      <th>41414</th>\n",
       "      <td>0.003643</td>\n",
       "      <td>1.074562</td>\n",
       "      <td>1.235622</td>\n",
       "      <td>7.208725</td>\n",
       "      <td>3.642749</td>\n",
       "    </tr>\n",
       "  </tbody>\n",
       "</table>\n",
       "<p>40949 rows × 5 columns</p>\n",
       "</div>"
      ],
      "text/plain": [
       "       category_id     views     likes  dislikes  comment_count\n",
       "0         0.267905  0.218069  0.073137  0.025677       0.200566\n",
       "1         0.532168  0.007844  0.100131  0.083867       0.113711\n",
       "2         0.400037  0.112341  0.313551  0.056067       0.007101\n",
       "3         0.532168  0.272871  0.280033  0.104908       0.168336\n",
       "4         0.532168  0.035847  0.253267  0.059333       0.242351\n",
       "...            ...       ...       ...       ...            ...\n",
       "41410     0.657013  0.091314  0.157752  0.080140       0.154683\n",
       "41411     0.267905  0.175275  0.062297  0.114691       0.120513\n",
       "41412     0.532168  0.175051  0.114464  0.092300       0.119017\n",
       "41413     2.506850  0.446310  0.518564  0.029811       0.123997\n",
       "41414     0.003643  1.074562  1.235622  7.208725       3.642749\n",
       "\n",
       "[40949 rows x 5 columns]"
      ]
     },
     "execution_count": 15,
     "metadata": {},
     "output_type": "execute_result"
    }
   ],
   "source": [
    "from scipy import stats\n",
    "z = np.abs(stats.zscore(numFrame))\n",
    "z"
   ]
  },
  {
   "cell_type": "code",
   "execution_count": 18,
   "id": "d2a0d775",
   "metadata": {},
   "outputs": [
    {
     "data": {
      "text/plain": [
       "((40029, 5), (40949, 5))"
      ]
     },
     "execution_count": 18,
     "metadata": {},
     "output_type": "execute_result"
    }
   ],
   "source": [
    "numFrame_or = numFrame[(z < 3).all(axis=1)]\n",
    "numFrame_or.shape , numFrame.shape"
   ]
  },
  {
   "cell_type": "code",
   "execution_count": 19,
   "id": "6777ebf1",
   "metadata": {},
   "outputs": [
    {
     "data": {
      "text/plain": [
       "video_id                   6351\n",
       "trending_date               205\n",
       "title                      6455\n",
       "channel_title              2207\n",
       "category_id                  16\n",
       "publish_time               6269\n",
       "tags                       6055\n",
       "views                     40478\n",
       "likes                     29850\n",
       "dislikes                   8516\n",
       "comment_count             13773\n",
       "thumbnail_link             6352\n",
       "comments_disabled             2\n",
       "ratings_disabled              2\n",
       "video_error_or_removed        2\n",
       "description                6902\n",
       "dtype: int64"
      ]
     },
     "execution_count": 19,
     "metadata": {},
     "output_type": "execute_result"
    }
   ],
   "source": [
    "df.nunique()"
   ]
  },
  {
   "cell_type": "markdown",
   "id": "0c86cd97",
   "metadata": {},
   "source": [
    "# change type"
   ]
  },
  {
   "cell_type": "markdown",
   "id": "a2640737",
   "metadata": {},
   "source": [
    "yes there are some types that can be changed such as comments disabled,ratings_disabled and video error the other categorical data can't be changed "
   ]
  },
  {
   "cell_type": "code",
   "execution_count": 20,
   "id": "3ac5218a",
   "metadata": {},
   "outputs": [
    {
     "data": {
      "text/plain": [
       "6055"
      ]
     },
     "execution_count": 20,
     "metadata": {},
     "output_type": "execute_result"
    }
   ],
   "source": [
    "df['tags'].nunique()"
   ]
  },
  {
   "cell_type": "code",
   "execution_count": 25,
   "id": "2e9ef2f0",
   "metadata": {},
   "outputs": [
    {
     "data": {
      "text/plain": [
       "'[none]'"
      ]
     },
     "execution_count": 25,
     "metadata": {},
     "output_type": "execute_result"
    }
   ],
   "source": [
    "df['tags'].value_counts().idxmax()"
   ]
  }
 ],
 "metadata": {
  "kernelspec": {
   "display_name": "Python 3 (ipykernel)",
   "language": "python",
   "name": "python3"
  },
  "language_info": {
   "codemirror_mode": {
    "name": "ipython",
    "version": 3
   },
   "file_extension": ".py",
   "mimetype": "text/x-python",
   "name": "python",
   "nbconvert_exporter": "python",
   "pygments_lexer": "ipython3",
   "version": "3.9.7"
  }
 },
 "nbformat": 4,
 "nbformat_minor": 5
}
